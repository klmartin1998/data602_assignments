{
 "cells": [
  {
   "cell_type": "markdown",
   "metadata": {
    "id": "rd2QZetSDszc"
   },
   "source": [
    "# **Assignment 8**\n",
    "\n",
    "# **Weeks 10 & 11 - matplotlib & seaborn**"
   ]
  },
  {
   "cell_type": "markdown",
   "metadata": {
    "id": "uW3w6p8rqgxu"
   },
   "source": [
    "# 1. Introduction & Setup\n",
    "\n",
    "Once again, for this assignment I chose to use a dataset associated with my final project. For this assignment, I selected the [Suspension Data](https://www3.cde.ca.gov/demo-downloads/discipline/suspension22-v2.txt) file from the [California Department of Education website](https://www.cde.ca.gov/ds/ad/downloadabledata.asp).\n",
    "\n",
    "This dataset looks at the number of suspensions within California schools, broken down by County, District and Schoools. "
   ]
  },
  {
   "cell_type": "markdown",
   "metadata": {},
   "source": [
    "#### Import Libraries and setup autosave\n",
    "\n",
    "One of the things that I've recently began doing is using the magic command to set the autosave feature to every 2-minutes. There have been a number of occassions where the Kernel crashed and I lost all of my data. Therefore, I've begun using autosave to avoid that from happening.\n",
    "\n",
    "Next I imported the libraries that I will be using for this assignment:\n",
    "\n",
    "- pandas\n",
    "- re\n",
    "- numpy\n",
    "- matplotlib.pyplot\n",
    "- seaborn\n",
    "- rcParams"
   ]
  },
  {
   "cell_type": "code",
   "execution_count": 39,
   "metadata": {
    "id": "L0PnfMOFzOXz"
   },
   "outputs": [
    {
     "data": {
      "application/javascript": [
       "IPython.notebook.set_autosave_interval(120000)"
      ]
     },
     "metadata": {},
     "output_type": "display_data"
    },
    {
     "name": "stdout",
     "output_type": "stream",
     "text": [
      "Autosaving every 120 seconds\n"
     ]
    }
   ],
   "source": [
    "%autosave 120\n",
    "\n",
    "import pandas as pd\n",
    "import re\n",
    "import numpy as np\n",
    "import matplotlib.pyplot as plt\n",
    "import seaborn as sns\n",
    "from matplotlib import rcParams"
   ]
  },
  {
   "cell_type": "markdown",
   "metadata": {},
   "source": [
    "#### Importing Data\n",
    "\n",
    "When I initially tried to import the data into a dataframe, I received an error indicating that there were some characters that could not be encoded. After doing some research, I learned about the **encoding** paramater of the **read_csv** function, and set it to \"ISO-8859-1\", which then allowed me to successfully import the data into my Pandas data frame. "
   ]
  },
  {
   "cell_type": "code",
   "execution_count": 2,
   "metadata": {},
   "outputs": [],
   "source": [
    "df = pd.read_csv('https://www3.cde.ca.gov/demo-downloads/discipline/suspension22-v2.txt',encoding = \"ISO-8859-1\", sep='\\t')"
   ]
  },
  {
   "cell_type": "markdown",
   "metadata": {},
   "source": [
    "In order to preserve the original, I made a coopy of the data frame and saved it as **susp_df**"
   ]
  },
  {
   "cell_type": "code",
   "execution_count": 62,
   "metadata": {},
   "outputs": [],
   "source": [
    "susp_df = df.copy()"
   ]
  },
  {
   "cell_type": "markdown",
   "metadata": {
    "id": "3bp8cdDxDs2t"
   },
   "source": [
    "# 2. Data Exploration"
   ]
  },
  {
   "cell_type": "markdown",
   "metadata": {},
   "source": [
    "We start by looking at the shape of the dataframe, and we see that there are 225,535 rows and 21 columns"
   ]
  },
  {
   "cell_type": "code",
   "execution_count": 63,
   "metadata": {},
   "outputs": [
    {
     "data": {
      "text/plain": [
       "(225353, 21)"
      ]
     },
     "execution_count": 63,
     "metadata": {},
     "output_type": "execute_result"
    }
   ],
   "source": [
    "susp_df.shape"
   ]
  },
  {
   "cell_type": "markdown",
   "metadata": {},
   "source": [
    "Once again, when looking at the columns for the dataframe, we find that the column names are in a format that I don't prefer to work with. This is something that we will change during our Data Wrangling step"
   ]
  },
  {
   "cell_type": "code",
   "execution_count": 64,
   "metadata": {},
   "outputs": [
    {
     "data": {
      "text/plain": [
       "Index(['AcademicYear', 'AggregateLevel', 'CountyCode', 'DistrictCode',\n",
       "       'SchoolCode', 'CountyName', 'DistrictName', 'SchoolName', 'CharterYN',\n",
       "       'ReportingCategory', 'CumulativeEnrollment', 'Total Suspensions',\n",
       "       'Unduplicated Count of Students Suspended (Total)',\n",
       "       'Unduplicated Count of Students Suspended (Defiance-Only)',\n",
       "       'Suspension Rate (Total)', 'Suspension Count Violent Incident (Injury)',\n",
       "       'Suspension Count Violent Incident (No Injury)',\n",
       "       'Suspension Count Weapons Possession',\n",
       "       'Suspension Count Illicit Drug-Related',\n",
       "       'Suspension Count Defiance-Only', 'Suspension Count Other Reasons'],\n",
       "      dtype='object')"
      ]
     },
     "execution_count": 64,
     "metadata": {},
     "output_type": "execute_result"
    }
   ],
   "source": [
    "susp_df.columns"
   ]
  },
  {
   "cell_type": "markdown",
   "metadata": {},
   "source": [
    "Finally, similar to our previous assignment, we see that the county code, district code, and school code fields are numeric, when they should be character objects, and the columns from cumulative enrollment on, are coded as character objects, when they should be coded as numeric. This is also something that we will change during our data wrangling process."
   ]
  },
  {
   "cell_type": "code",
   "execution_count": 65,
   "metadata": {},
   "outputs": [
    {
     "data": {
      "text/plain": [
       "AcademicYear                                                 object\n",
       "AggregateLevel                                               object\n",
       "CountyCode                                                    int64\n",
       "DistrictCode                                                float64\n",
       "SchoolCode                                                  float64\n",
       "CountyName                                                   object\n",
       "DistrictName                                                 object\n",
       "SchoolName                                                   object\n",
       "CharterYN                                                    object\n",
       "ReportingCategory                                            object\n",
       "CumulativeEnrollment                                         object\n",
       "Total Suspensions                                            object\n",
       "Unduplicated Count of Students Suspended (Total)             object\n",
       "Unduplicated Count of Students Suspended (Defiance-Only)     object\n",
       "Suspension Rate (Total)                                      object\n",
       "Suspension Count Violent Incident (Injury)                   object\n",
       "Suspension Count Violent Incident (No Injury)                object\n",
       "Suspension Count Weapons Possession                          object\n",
       "Suspension Count Illicit Drug-Related                        object\n",
       "Suspension Count Defiance-Only                               object\n",
       "Suspension Count Other Reasons                               object\n",
       "dtype: object"
      ]
     },
     "execution_count": 65,
     "metadata": {},
     "output_type": "execute_result"
    }
   ],
   "source": [
    "susp_df.dtypes"
   ]
  },
  {
   "cell_type": "markdown",
   "metadata": {
    "id": "3bp8cdDxDs2t"
   },
   "source": [
    "# 3. Data Wrangling\n",
    "\n",
    "Based on our familiarity with this dataset gained from the previous assignment, and by reading the documentation [here](https://www.cde.ca.gov/ds/ad/fssd.asp), we will once again start by completing several key data wrangling steps up front. \n",
    "\n",
    "The first thing we will do is convert the column names into a lower_case_with_underscores format, and then secondly we want to filter the data to only include the level of data that we are interested in keeping for our analysis and visualizations. In this case, our final dataframe will be at the School level and include the data for total students (as opposed to the sub categories at each school)."
   ]
  },
  {
   "cell_type": "markdown",
   "metadata": {},
   "source": [
    "#### a. Rename Columns\n",
    "\n",
    "Once again, I will begin by converting the column names to lower_case_with_underscores format, by completing the following steps:\n",
    "\n",
    "1. Create an empty list to store the new column names\n",
    "2. Create a list of the existing column names and store them in a new list called column_names\n",
    "3. Next we look through the column names and perform the following operations on each column name using the following steps:\n",
    "    - For each column name, use regex to break the column name into separate words\n",
    "    - Next we will convert each of the words in the column name into lower case text and store them into a list\n",
    "    - We will then combine each of the lower case words in the column names using the underscore symbol\n",
    "    - Finally, we take our new word and add it to the empty list we created at the onset\n",
    "4. Finally, now that we have a list of column names, we can set the these column names as the new names for the columns"
   ]
  },
  {
   "cell_type": "code",
   "execution_count": 66,
   "metadata": {},
   "outputs": [],
   "source": [
    "new_columns = []\n",
    "column_names = susp_df.columns.to_list()\n",
    "for column in column_names:\n",
    "    words = re.findall(r'[A-Z]+[a-z]*',column)\n",
    "    lower_case_words = [word.lower() for word in words]\n",
    "    new_column = '_'.join(lower_case_words)\n",
    "    new_columns.append(new_column)\n",
    "\n",
    "susp_df.columns = new_columns"
   ]
  },
  {
   "cell_type": "markdown",
   "metadata": {},
   "source": [
    "#### b. Filter data\n",
    "\n",
    "Next, we will filter the data to include school level data for a total across each school. We will then take this filtered data and store it in a variable named **schoolLevel_df** "
   ]
  },
  {
   "cell_type": "code",
   "execution_count": 67,
   "metadata": {},
   "outputs": [],
   "source": [
    "schoolLevel_df = susp_df[(susp_df['aggregate_level'] == 'S') &\n",
    "        (susp_df['reporting_category'] == 'TA')]\n"
   ]
  },
  {
   "cell_type": "markdown",
   "metadata": {},
   "source": [
    "#### c. Preview data"
   ]
  },
  {
   "cell_type": "markdown",
   "metadata": {},
   "source": [
    "Once again, we take a peak at the data by using the Pandas' sample function"
   ]
  },
  {
   "cell_type": "code",
   "execution_count": 68,
   "metadata": {},
   "outputs": [
    {
     "data": {
      "text/html": [
       "<div>\n",
       "<style scoped>\n",
       "    .dataframe tbody tr th:only-of-type {\n",
       "        vertical-align: middle;\n",
       "    }\n",
       "\n",
       "    .dataframe tbody tr th {\n",
       "        vertical-align: top;\n",
       "    }\n",
       "\n",
       "    .dataframe thead th {\n",
       "        text-align: right;\n",
       "    }\n",
       "</style>\n",
       "<table border=\"1\" class=\"dataframe\">\n",
       "  <thead>\n",
       "    <tr style=\"text-align: right;\">\n",
       "      <th></th>\n",
       "      <th>academic_year</th>\n",
       "      <th>aggregate_level</th>\n",
       "      <th>county_code</th>\n",
       "      <th>district_code</th>\n",
       "      <th>school_code</th>\n",
       "      <th>county_name</th>\n",
       "      <th>district_name</th>\n",
       "      <th>school_name</th>\n",
       "      <th>charter_yn</th>\n",
       "      <th>reporting_category</th>\n",
       "      <th>...</th>\n",
       "      <th>total_suspensions</th>\n",
       "      <th>unduplicated_count_students_suspended_total</th>\n",
       "      <th>unduplicated_count_students_suspended_defiance_only</th>\n",
       "      <th>suspension_rate_total</th>\n",
       "      <th>suspension_count_violent_incident_injury</th>\n",
       "      <th>suspension_count_violent_incident_no_injury</th>\n",
       "      <th>suspension_count_weapons_possession</th>\n",
       "      <th>suspension_count_illicit_drug_related</th>\n",
       "      <th>suspension_count_defiance_only</th>\n",
       "      <th>suspension_count_other_reasons</th>\n",
       "    </tr>\n",
       "  </thead>\n",
       "  <tbody>\n",
       "    <tr>\n",
       "      <th>151967</th>\n",
       "      <td>2021-22</td>\n",
       "      <td>S</td>\n",
       "      <td>34</td>\n",
       "      <td>67421.0</td>\n",
       "      <td>1.0</td>\n",
       "      <td>Sacramento</td>\n",
       "      <td>Robla Elementary</td>\n",
       "      <td>Nonpublic, Nonsectarian Schools</td>\n",
       "      <td>No</td>\n",
       "      <td>TA</td>\n",
       "      <td>...</td>\n",
       "      <td>0</td>\n",
       "      <td>0</td>\n",
       "      <td>0</td>\n",
       "      <td>0.0</td>\n",
       "      <td>0</td>\n",
       "      <td>0</td>\n",
       "      <td>0</td>\n",
       "      <td>0</td>\n",
       "      <td>0</td>\n",
       "      <td>0</td>\n",
       "    </tr>\n",
       "    <tr>\n",
       "      <th>179706</th>\n",
       "      <td>2021-22</td>\n",
       "      <td>S</td>\n",
       "      <td>37</td>\n",
       "      <td>68452.0</td>\n",
       "      <td>6107577.0</td>\n",
       "      <td>San Diego</td>\n",
       "      <td>Vista Unified</td>\n",
       "      <td>Roosevelt Middle</td>\n",
       "      <td>No</td>\n",
       "      <td>TA</td>\n",
       "      <td>...</td>\n",
       "      <td>241</td>\n",
       "      <td>147</td>\n",
       "      <td>37</td>\n",
       "      <td>17.4</td>\n",
       "      <td>120</td>\n",
       "      <td>40</td>\n",
       "      <td>5</td>\n",
       "      <td>17</td>\n",
       "      <td>47</td>\n",
       "      <td>12</td>\n",
       "    </tr>\n",
       "    <tr>\n",
       "      <th>171572</th>\n",
       "      <td>2021-22</td>\n",
       "      <td>S</td>\n",
       "      <td>37</td>\n",
       "      <td>73569.0</td>\n",
       "      <td>3739018.0</td>\n",
       "      <td>San Diego</td>\n",
       "      <td>Oceanside Unified</td>\n",
       "      <td>El Camino High</td>\n",
       "      <td>No</td>\n",
       "      <td>TA</td>\n",
       "      <td>...</td>\n",
       "      <td>231</td>\n",
       "      <td>173</td>\n",
       "      <td>3</td>\n",
       "      <td>5.9</td>\n",
       "      <td>58</td>\n",
       "      <td>76</td>\n",
       "      <td>16</td>\n",
       "      <td>73</td>\n",
       "      <td>3</td>\n",
       "      <td>5</td>\n",
       "    </tr>\n",
       "    <tr>\n",
       "      <th>102793</th>\n",
       "      <td>2021-22</td>\n",
       "      <td>S</td>\n",
       "      <td>19</td>\n",
       "      <td>64733.0</td>\n",
       "      <td>6057954.0</td>\n",
       "      <td>Los Angeles</td>\n",
       "      <td>Los Angeles Unified</td>\n",
       "      <td>Richard Henry Dana Middle</td>\n",
       "      <td>No</td>\n",
       "      <td>TA</td>\n",
       "      <td>...</td>\n",
       "      <td>1</td>\n",
       "      <td>1</td>\n",
       "      <td>0</td>\n",
       "      <td>0.1</td>\n",
       "      <td>1</td>\n",
       "      <td>0</td>\n",
       "      <td>0</td>\n",
       "      <td>0</td>\n",
       "      <td>0</td>\n",
       "      <td>0</td>\n",
       "    </tr>\n",
       "    <tr>\n",
       "      <th>173688</th>\n",
       "      <td>2021-22</td>\n",
       "      <td>S</td>\n",
       "      <td>37</td>\n",
       "      <td>68338.0</td>\n",
       "      <td>108282.0</td>\n",
       "      <td>San Diego</td>\n",
       "      <td>San Diego Unified</td>\n",
       "      <td>Cherokee Point Elementary</td>\n",
       "      <td>No</td>\n",
       "      <td>TA</td>\n",
       "      <td>...</td>\n",
       "      <td>2</td>\n",
       "      <td>2</td>\n",
       "      <td>0</td>\n",
       "      <td>0.7</td>\n",
       "      <td>1</td>\n",
       "      <td>1</td>\n",
       "      <td>0</td>\n",
       "      <td>0</td>\n",
       "      <td>0</td>\n",
       "      <td>0</td>\n",
       "    </tr>\n",
       "    <tr>\n",
       "      <th>188180</th>\n",
       "      <td>2021-22</td>\n",
       "      <td>S</td>\n",
       "      <td>41</td>\n",
       "      <td>68866.0</td>\n",
       "      <td>1.0</td>\n",
       "      <td>San Mateo</td>\n",
       "      <td>Belmont-Redwood Shores Elementary</td>\n",
       "      <td>Nonpublic, Nonsectarian Schools</td>\n",
       "      <td>No</td>\n",
       "      <td>TA</td>\n",
       "      <td>...</td>\n",
       "      <td>0</td>\n",
       "      <td>0</td>\n",
       "      <td>0</td>\n",
       "      <td>0.0</td>\n",
       "      <td>0</td>\n",
       "      <td>0</td>\n",
       "      <td>0</td>\n",
       "      <td>0</td>\n",
       "      <td>0</td>\n",
       "      <td>0</td>\n",
       "    </tr>\n",
       "    <tr>\n",
       "      <th>170685</th>\n",
       "      <td>2021-22</td>\n",
       "      <td>S</td>\n",
       "      <td>37</td>\n",
       "      <td>68197.0</td>\n",
       "      <td>132951.0</td>\n",
       "      <td>San Diego</td>\n",
       "      <td>La Mesa-Spring Valley</td>\n",
       "      <td>Trust Blended Learning</td>\n",
       "      <td>No</td>\n",
       "      <td>TA</td>\n",
       "      <td>...</td>\n",
       "      <td>2</td>\n",
       "      <td>2</td>\n",
       "      <td>0</td>\n",
       "      <td>0.4</td>\n",
       "      <td>0</td>\n",
       "      <td>0</td>\n",
       "      <td>0</td>\n",
       "      <td>2</td>\n",
       "      <td>0</td>\n",
       "      <td>0</td>\n",
       "    </tr>\n",
       "    <tr>\n",
       "      <th>71484</th>\n",
       "      <td>2021-22</td>\n",
       "      <td>S</td>\n",
       "      <td>15</td>\n",
       "      <td>63479.0</td>\n",
       "      <td>6112791.0</td>\n",
       "      <td>Kern</td>\n",
       "      <td>Fruitvale Elementary</td>\n",
       "      <td>Endeavour Elementary</td>\n",
       "      <td>No</td>\n",
       "      <td>TA</td>\n",
       "      <td>...</td>\n",
       "      <td>2</td>\n",
       "      <td>2</td>\n",
       "      <td>0</td>\n",
       "      <td>0.3</td>\n",
       "      <td>0</td>\n",
       "      <td>2</td>\n",
       "      <td>0</td>\n",
       "      <td>0</td>\n",
       "      <td>0</td>\n",
       "      <td>0</td>\n",
       "    </tr>\n",
       "    <tr>\n",
       "      <th>72687</th>\n",
       "      <td>2021-22</td>\n",
       "      <td>S</td>\n",
       "      <td>15</td>\n",
       "      <td>63628.0</td>\n",
       "      <td>1533843.0</td>\n",
       "      <td>Kern</td>\n",
       "      <td>Maricopa Unified</td>\n",
       "      <td>Maricopa High</td>\n",
       "      <td>No</td>\n",
       "      <td>TA</td>\n",
       "      <td>...</td>\n",
       "      <td>69</td>\n",
       "      <td>18</td>\n",
       "      <td>3</td>\n",
       "      <td>17.0</td>\n",
       "      <td>1</td>\n",
       "      <td>38</td>\n",
       "      <td>2</td>\n",
       "      <td>14</td>\n",
       "      <td>10</td>\n",
       "      <td>4</td>\n",
       "    </tr>\n",
       "    <tr>\n",
       "      <th>93186</th>\n",
       "      <td>2021-22</td>\n",
       "      <td>S</td>\n",
       "      <td>19</td>\n",
       "      <td>64733.0</td>\n",
       "      <td>6016455.0</td>\n",
       "      <td>Los Angeles</td>\n",
       "      <td>Los Angeles Unified</td>\n",
       "      <td>Chase Street Elementary</td>\n",
       "      <td>No</td>\n",
       "      <td>TA</td>\n",
       "      <td>...</td>\n",
       "      <td>0</td>\n",
       "      <td>0</td>\n",
       "      <td>0</td>\n",
       "      <td>0.0</td>\n",
       "      <td>0</td>\n",
       "      <td>0</td>\n",
       "      <td>0</td>\n",
       "      <td>0</td>\n",
       "      <td>0</td>\n",
       "      <td>0</td>\n",
       "    </tr>\n",
       "  </tbody>\n",
       "</table>\n",
       "<p>10 rows × 21 columns</p>\n",
       "</div>"
      ],
      "text/plain": [
       "       academic_year aggregate_level  county_code  district_code  school_code  \\\n",
       "151967       2021-22               S           34        67421.0          1.0   \n",
       "179706       2021-22               S           37        68452.0    6107577.0   \n",
       "171572       2021-22               S           37        73569.0    3739018.0   \n",
       "102793       2021-22               S           19        64733.0    6057954.0   \n",
       "173688       2021-22               S           37        68338.0     108282.0   \n",
       "188180       2021-22               S           41        68866.0          1.0   \n",
       "170685       2021-22               S           37        68197.0     132951.0   \n",
       "71484        2021-22               S           15        63479.0    6112791.0   \n",
       "72687        2021-22               S           15        63628.0    1533843.0   \n",
       "93186        2021-22               S           19        64733.0    6016455.0   \n",
       "\n",
       "        county_name                      district_name  \\\n",
       "151967   Sacramento                   Robla Elementary   \n",
       "179706    San Diego                      Vista Unified   \n",
       "171572    San Diego                  Oceanside Unified   \n",
       "102793  Los Angeles                Los Angeles Unified   \n",
       "173688    San Diego                  San Diego Unified   \n",
       "188180    San Mateo  Belmont-Redwood Shores Elementary   \n",
       "170685    San Diego              La Mesa-Spring Valley   \n",
       "71484          Kern               Fruitvale Elementary   \n",
       "72687          Kern                   Maricopa Unified   \n",
       "93186   Los Angeles                Los Angeles Unified   \n",
       "\n",
       "                            school_name charter_yn reporting_category  ...  \\\n",
       "151967  Nonpublic, Nonsectarian Schools        No                  TA  ...   \n",
       "179706                 Roosevelt Middle        No                  TA  ...   \n",
       "171572                   El Camino High        No                  TA  ...   \n",
       "102793        Richard Henry Dana Middle        No                  TA  ...   \n",
       "173688        Cherokee Point Elementary        No                  TA  ...   \n",
       "188180  Nonpublic, Nonsectarian Schools        No                  TA  ...   \n",
       "170685           Trust Blended Learning        No                  TA  ...   \n",
       "71484              Endeavour Elementary        No                  TA  ...   \n",
       "72687                     Maricopa High        No                  TA  ...   \n",
       "93186           Chase Street Elementary        No                  TA  ...   \n",
       "\n",
       "       total_suspensions unduplicated_count_students_suspended_total  \\\n",
       "151967                 0                                           0   \n",
       "179706               241                                         147   \n",
       "171572               231                                         173   \n",
       "102793                 1                                           1   \n",
       "173688                 2                                           2   \n",
       "188180                 0                                           0   \n",
       "170685                 2                                           2   \n",
       "71484                  2                                           2   \n",
       "72687                 69                                          18   \n",
       "93186                  0                                           0   \n",
       "\n",
       "       unduplicated_count_students_suspended_defiance_only  \\\n",
       "151967                                                  0    \n",
       "179706                                                 37    \n",
       "171572                                                  3    \n",
       "102793                                                  0    \n",
       "173688                                                  0    \n",
       "188180                                                  0    \n",
       "170685                                                  0    \n",
       "71484                                                   0    \n",
       "72687                                                   3    \n",
       "93186                                                   0    \n",
       "\n",
       "       suspension_rate_total suspension_count_violent_incident_injury  \\\n",
       "151967                   0.0                                        0   \n",
       "179706                  17.4                                      120   \n",
       "171572                   5.9                                       58   \n",
       "102793                   0.1                                        1   \n",
       "173688                   0.7                                        1   \n",
       "188180                   0.0                                        0   \n",
       "170685                   0.4                                        0   \n",
       "71484                    0.3                                        0   \n",
       "72687                   17.0                                        1   \n",
       "93186                    0.0                                        0   \n",
       "\n",
       "       suspension_count_violent_incident_no_injury  \\\n",
       "151967                                           0   \n",
       "179706                                          40   \n",
       "171572                                          76   \n",
       "102793                                           0   \n",
       "173688                                           1   \n",
       "188180                                           0   \n",
       "170685                                           0   \n",
       "71484                                            2   \n",
       "72687                                           38   \n",
       "93186                                            0   \n",
       "\n",
       "       suspension_count_weapons_possession  \\\n",
       "151967                                   0   \n",
       "179706                                   5   \n",
       "171572                                  16   \n",
       "102793                                   0   \n",
       "173688                                   0   \n",
       "188180                                   0   \n",
       "170685                                   0   \n",
       "71484                                    0   \n",
       "72687                                    2   \n",
       "93186                                    0   \n",
       "\n",
       "       suspension_count_illicit_drug_related suspension_count_defiance_only  \\\n",
       "151967                                     0                              0   \n",
       "179706                                    17                             47   \n",
       "171572                                    73                              3   \n",
       "102793                                     0                              0   \n",
       "173688                                     0                              0   \n",
       "188180                                     0                              0   \n",
       "170685                                     2                              0   \n",
       "71484                                      0                              0   \n",
       "72687                                     14                             10   \n",
       "93186                                      0                              0   \n",
       "\n",
       "       suspension_count_other_reasons  \n",
       "151967                              0  \n",
       "179706                             12  \n",
       "171572                              5  \n",
       "102793                              0  \n",
       "173688                              0  \n",
       "188180                              0  \n",
       "170685                              0  \n",
       "71484                               0  \n",
       "72687                               4  \n",
       "93186                               0  \n",
       "\n",
       "[10 rows x 21 columns]"
      ]
     },
     "execution_count": 68,
     "metadata": {},
     "output_type": "execute_result"
    }
   ],
   "source": [
    "schoolLevel_df.sample(n=10)"
   ]
  },
  {
   "cell_type": "markdown",
   "metadata": {},
   "source": [
    "Next we take a look at the shape of the dataframe as well as the data types for each of our columns"
   ]
  },
  {
   "cell_type": "code",
   "execution_count": 69,
   "metadata": {},
   "outputs": [
    {
     "data": {
      "text/plain": [
       "(10652, 21)"
      ]
     },
     "execution_count": 69,
     "metadata": {},
     "output_type": "execute_result"
    }
   ],
   "source": [
    "schoolLevel_df.shape"
   ]
  },
  {
   "cell_type": "code",
   "execution_count": 10,
   "metadata": {
    "id": "3NUlO_ru1WqR"
   },
   "outputs": [
    {
     "data": {
      "text/plain": [
       "academic_year                                           object\n",
       "aggregate_level                                         object\n",
       "county_code                                              int64\n",
       "district_code                                          float64\n",
       "school_code                                            float64\n",
       "county_name                                             object\n",
       "district_name                                           object\n",
       "school_name                                             object\n",
       "charter_yn                                              object\n",
       "reporting_category                                      object\n",
       "cumulative_enrollment                                   object\n",
       "total_suspensions                                       object\n",
       "unduplicated_count_students_suspended_total             object\n",
       "unduplicated_count_students_suspended_defiance_only     object\n",
       "suspension_rate_total                                   object\n",
       "suspension_count_violent_incident_injury                object\n",
       "suspension_count_violent_incident_no_injury             object\n",
       "suspension_count_weapons_possession                     object\n",
       "suspension_count_illicit_drug_related                   object\n",
       "suspension_count_defiance_only                          object\n",
       "suspension_count_other_reasons                          object\n",
       "dtype: object"
      ]
     },
     "execution_count": 10,
     "metadata": {},
     "output_type": "execute_result"
    }
   ],
   "source": [
    "schoolLevel_df.dtypes"
   ]
  },
  {
   "cell_type": "markdown",
   "metadata": {},
   "source": [
    "#### d. Convert Columns\n",
    "\n",
    "We will now work to change the data types for the county_code, district_code, and school_code fields so that they are character objects, and then we will change the data types for the cumulative_enrollment fields on down, so that they are numeric.\n",
    "\n",
    "We begin by creating a dataframe of just the column names, so we can easily access the columns and their indices for use in our code for converting the data types"
   ]
  },
  {
   "cell_type": "code",
   "execution_count": 70,
   "metadata": {},
   "outputs": [
    {
     "data": {
      "text/html": [
       "<div>\n",
       "<style scoped>\n",
       "    .dataframe tbody tr th:only-of-type {\n",
       "        vertical-align: middle;\n",
       "    }\n",
       "\n",
       "    .dataframe tbody tr th {\n",
       "        vertical-align: top;\n",
       "    }\n",
       "\n",
       "    .dataframe thead th {\n",
       "        text-align: right;\n",
       "    }\n",
       "</style>\n",
       "<table border=\"1\" class=\"dataframe\">\n",
       "  <thead>\n",
       "    <tr style=\"text-align: right;\">\n",
       "      <th></th>\n",
       "      <th>index</th>\n",
       "      <th>dtype</th>\n",
       "    </tr>\n",
       "  </thead>\n",
       "  <tbody>\n",
       "    <tr>\n",
       "      <th>0</th>\n",
       "      <td>academic_year</td>\n",
       "      <td>object</td>\n",
       "    </tr>\n",
       "    <tr>\n",
       "      <th>1</th>\n",
       "      <td>aggregate_level</td>\n",
       "      <td>object</td>\n",
       "    </tr>\n",
       "    <tr>\n",
       "      <th>2</th>\n",
       "      <td>county_code</td>\n",
       "      <td>int64</td>\n",
       "    </tr>\n",
       "    <tr>\n",
       "      <th>3</th>\n",
       "      <td>district_code</td>\n",
       "      <td>float64</td>\n",
       "    </tr>\n",
       "    <tr>\n",
       "      <th>4</th>\n",
       "      <td>school_code</td>\n",
       "      <td>float64</td>\n",
       "    </tr>\n",
       "    <tr>\n",
       "      <th>5</th>\n",
       "      <td>county_name</td>\n",
       "      <td>object</td>\n",
       "    </tr>\n",
       "    <tr>\n",
       "      <th>6</th>\n",
       "      <td>district_name</td>\n",
       "      <td>object</td>\n",
       "    </tr>\n",
       "    <tr>\n",
       "      <th>7</th>\n",
       "      <td>school_name</td>\n",
       "      <td>object</td>\n",
       "    </tr>\n",
       "    <tr>\n",
       "      <th>8</th>\n",
       "      <td>charter_yn</td>\n",
       "      <td>object</td>\n",
       "    </tr>\n",
       "    <tr>\n",
       "      <th>9</th>\n",
       "      <td>reporting_category</td>\n",
       "      <td>object</td>\n",
       "    </tr>\n",
       "    <tr>\n",
       "      <th>10</th>\n",
       "      <td>cumulative_enrollment</td>\n",
       "      <td>object</td>\n",
       "    </tr>\n",
       "    <tr>\n",
       "      <th>11</th>\n",
       "      <td>total_suspensions</td>\n",
       "      <td>object</td>\n",
       "    </tr>\n",
       "    <tr>\n",
       "      <th>12</th>\n",
       "      <td>unduplicated_count_students_suspended_total</td>\n",
       "      <td>object</td>\n",
       "    </tr>\n",
       "    <tr>\n",
       "      <th>13</th>\n",
       "      <td>unduplicated_count_students_suspended_defiance...</td>\n",
       "      <td>object</td>\n",
       "    </tr>\n",
       "    <tr>\n",
       "      <th>14</th>\n",
       "      <td>suspension_rate_total</td>\n",
       "      <td>object</td>\n",
       "    </tr>\n",
       "    <tr>\n",
       "      <th>15</th>\n",
       "      <td>suspension_count_violent_incident_injury</td>\n",
       "      <td>object</td>\n",
       "    </tr>\n",
       "    <tr>\n",
       "      <th>16</th>\n",
       "      <td>suspension_count_violent_incident_no_injury</td>\n",
       "      <td>object</td>\n",
       "    </tr>\n",
       "    <tr>\n",
       "      <th>17</th>\n",
       "      <td>suspension_count_weapons_possession</td>\n",
       "      <td>object</td>\n",
       "    </tr>\n",
       "    <tr>\n",
       "      <th>18</th>\n",
       "      <td>suspension_count_illicit_drug_related</td>\n",
       "      <td>object</td>\n",
       "    </tr>\n",
       "    <tr>\n",
       "      <th>19</th>\n",
       "      <td>suspension_count_defiance_only</td>\n",
       "      <td>object</td>\n",
       "    </tr>\n",
       "    <tr>\n",
       "      <th>20</th>\n",
       "      <td>suspension_count_other_reasons</td>\n",
       "      <td>object</td>\n",
       "    </tr>\n",
       "  </tbody>\n",
       "</table>\n",
       "</div>"
      ],
      "text/plain": [
       "                                                index    dtype\n",
       "0                                       academic_year   object\n",
       "1                                     aggregate_level   object\n",
       "2                                         county_code    int64\n",
       "3                                       district_code  float64\n",
       "4                                         school_code  float64\n",
       "5                                         county_name   object\n",
       "6                                       district_name   object\n",
       "7                                         school_name   object\n",
       "8                                          charter_yn   object\n",
       "9                                  reporting_category   object\n",
       "10                              cumulative_enrollment   object\n",
       "11                                  total_suspensions   object\n",
       "12        unduplicated_count_students_suspended_total   object\n",
       "13  unduplicated_count_students_suspended_defiance...   object\n",
       "14                              suspension_rate_total   object\n",
       "15           suspension_count_violent_incident_injury   object\n",
       "16        suspension_count_violent_incident_no_injury   object\n",
       "17                suspension_count_weapons_possession   object\n",
       "18              suspension_count_illicit_drug_related   object\n",
       "19                     suspension_count_defiance_only   object\n",
       "20                     suspension_count_other_reasons   object"
      ]
     },
     "execution_count": 70,
     "metadata": {},
     "output_type": "execute_result"
    }
   ],
   "source": [
    "pd.DataFrame(schoolLevel_df.dtypes).reset_index().rename(columns={0:'dtype'})"
   ]
  },
  {
   "cell_type": "markdown",
   "metadata": {},
   "source": [
    "Now we perform the datatype conversion"
   ]
  },
  {
   "cell_type": "code",
   "execution_count": 71,
   "metadata": {},
   "outputs": [
    {
     "name": "stderr",
     "output_type": "stream",
     "text": [
      "/opt/anaconda3/lib/python3.7/site-packages/pandas/core/indexing.py:965: SettingWithCopyWarning: \n",
      "A value is trying to be set on a copy of a slice from a DataFrame.\n",
      "Try using .loc[row_indexer,col_indexer] = value instead\n",
      "\n",
      "See the caveats in the documentation: https://pandas.pydata.org/pandas-docs/stable/user_guide/indexing.html#returning-a-view-versus-a-copy\n",
      "  self.obj[item] = s\n"
     ]
    }
   ],
   "source": [
    "schoolLevel_df.loc[:,10:21]=schoolLevel_df.iloc[:,10:21].apply(lambda x: x.astype(float), axis=1)\n",
    "schoolLevel_df.loc[:,2:5] = schoolLevel_df.iloc[:,2:5].apply(lambda x: x.astype(int).astype(str), axis=1)"
   ]
  },
  {
   "cell_type": "markdown",
   "metadata": {},
   "source": [
    "Now we check the data again to confirm that we have the right data types for our fields"
   ]
  },
  {
   "cell_type": "code",
   "execution_count": 72,
   "metadata": {},
   "outputs": [
    {
     "data": {
      "text/plain": [
       "academic_year                                           object\n",
       "aggregate_level                                         object\n",
       "county_code                                             object\n",
       "district_code                                           object\n",
       "school_code                                             object\n",
       "county_name                                             object\n",
       "district_name                                           object\n",
       "school_name                                             object\n",
       "charter_yn                                              object\n",
       "reporting_category                                      object\n",
       "cumulative_enrollment                                  float64\n",
       "total_suspensions                                      float64\n",
       "unduplicated_count_students_suspended_total            float64\n",
       "unduplicated_count_students_suspended_defiance_only    float64\n",
       "suspension_rate_total                                  float64\n",
       "suspension_count_violent_incident_injury               float64\n",
       "suspension_count_violent_incident_no_injury            float64\n",
       "suspension_count_weapons_possession                    float64\n",
       "suspension_count_illicit_drug_related                  float64\n",
       "suspension_count_defiance_only                         float64\n",
       "suspension_count_other_reasons                         float64\n",
       "dtype: object"
      ]
     },
     "execution_count": 72,
     "metadata": {},
     "output_type": "execute_result"
    }
   ],
   "source": [
    "schoolLevel_df.dtypes"
   ]
  },
  {
   "cell_type": "markdown",
   "metadata": {},
   "source": [
    "#### d. Describe data"
   ]
  },
  {
   "cell_type": "code",
   "execution_count": 89,
   "metadata": {},
   "outputs": [
    {
     "data": {
      "text/html": [
       "<div>\n",
       "<style scoped>\n",
       "    .dataframe tbody tr th:only-of-type {\n",
       "        vertical-align: middle;\n",
       "    }\n",
       "\n",
       "    .dataframe tbody tr th {\n",
       "        vertical-align: top;\n",
       "    }\n",
       "\n",
       "    .dataframe thead th {\n",
       "        text-align: right;\n",
       "    }\n",
       "</style>\n",
       "<table border=\"1\" class=\"dataframe\">\n",
       "  <thead>\n",
       "    <tr style=\"text-align: right;\">\n",
       "      <th></th>\n",
       "      <th>cumulative_enrollment</th>\n",
       "      <th>total_suspensions</th>\n",
       "      <th>unduplicated_count_students_suspended_total</th>\n",
       "      <th>unduplicated_count_students_suspended_defiance_only</th>\n",
       "      <th>suspension_rate_total</th>\n",
       "      <th>suspension_count_violent_incident_injury</th>\n",
       "      <th>suspension_count_violent_incident_no_injury</th>\n",
       "      <th>suspension_count_weapons_possession</th>\n",
       "      <th>suspension_count_illicit_drug_related</th>\n",
       "      <th>suspension_count_defiance_only</th>\n",
       "      <th>suspension_count_other_reasons</th>\n",
       "    </tr>\n",
       "  </thead>\n",
       "  <tbody>\n",
       "    <tr>\n",
       "      <th>count</th>\n",
       "      <td>10652.000000</td>\n",
       "      <td>10652.000000</td>\n",
       "      <td>10652.000000</td>\n",
       "      <td>10652.000000</td>\n",
       "      <td>10652.000000</td>\n",
       "      <td>10652.000000</td>\n",
       "      <td>10652.000000</td>\n",
       "      <td>10652.000000</td>\n",
       "      <td>10652.000000</td>\n",
       "      <td>10652.000000</td>\n",
       "      <td>10652.000000</td>\n",
       "    </tr>\n",
       "    <tr>\n",
       "      <th>mean</th>\n",
       "      <td>614.161472</td>\n",
       "      <td>27.452403</td>\n",
       "      <td>18.566373</td>\n",
       "      <td>1.521780</td>\n",
       "      <td>2.952244</td>\n",
       "      <td>4.264176</td>\n",
       "      <td>13.851483</td>\n",
       "      <td>1.316279</td>\n",
       "      <td>4.737796</td>\n",
       "      <td>2.015115</td>\n",
       "      <td>1.267555</td>\n",
       "    </tr>\n",
       "    <tr>\n",
       "      <th>std</th>\n",
       "      <td>648.279384</td>\n",
       "      <td>55.631809</td>\n",
       "      <td>35.315752</td>\n",
       "      <td>7.117071</td>\n",
       "      <td>5.427761</td>\n",
       "      <td>11.633000</td>\n",
       "      <td>28.442849</td>\n",
       "      <td>3.224511</td>\n",
       "      <td>13.237759</td>\n",
       "      <td>11.957709</td>\n",
       "      <td>3.142524</td>\n",
       "    </tr>\n",
       "    <tr>\n",
       "      <th>min</th>\n",
       "      <td>1.000000</td>\n",
       "      <td>0.000000</td>\n",
       "      <td>0.000000</td>\n",
       "      <td>0.000000</td>\n",
       "      <td>0.000000</td>\n",
       "      <td>0.000000</td>\n",
       "      <td>0.000000</td>\n",
       "      <td>0.000000</td>\n",
       "      <td>0.000000</td>\n",
       "      <td>0.000000</td>\n",
       "      <td>0.000000</td>\n",
       "    </tr>\n",
       "    <tr>\n",
       "      <th>25%</th>\n",
       "      <td>288.000000</td>\n",
       "      <td>0.000000</td>\n",
       "      <td>0.000000</td>\n",
       "      <td>0.000000</td>\n",
       "      <td>0.000000</td>\n",
       "      <td>0.000000</td>\n",
       "      <td>0.000000</td>\n",
       "      <td>0.000000</td>\n",
       "      <td>0.000000</td>\n",
       "      <td>0.000000</td>\n",
       "      <td>0.000000</td>\n",
       "    </tr>\n",
       "    <tr>\n",
       "      <th>50%</th>\n",
       "      <td>498.000000</td>\n",
       "      <td>6.000000</td>\n",
       "      <td>4.000000</td>\n",
       "      <td>0.000000</td>\n",
       "      <td>1.000000</td>\n",
       "      <td>0.000000</td>\n",
       "      <td>3.000000</td>\n",
       "      <td>0.000000</td>\n",
       "      <td>0.000000</td>\n",
       "      <td>0.000000</td>\n",
       "      <td>0.000000</td>\n",
       "    </tr>\n",
       "    <tr>\n",
       "      <th>75%</th>\n",
       "      <td>733.000000</td>\n",
       "      <td>25.000000</td>\n",
       "      <td>18.000000</td>\n",
       "      <td>0.000000</td>\n",
       "      <td>3.600000</td>\n",
       "      <td>3.000000</td>\n",
       "      <td>13.000000</td>\n",
       "      <td>1.000000</td>\n",
       "      <td>2.000000</td>\n",
       "      <td>0.000000</td>\n",
       "      <td>1.000000</td>\n",
       "    </tr>\n",
       "    <tr>\n",
       "      <th>max</th>\n",
       "      <td>27369.000000</td>\n",
       "      <td>805.000000</td>\n",
       "      <td>374.000000</td>\n",
       "      <td>224.000000</td>\n",
       "      <td>100.000000</td>\n",
       "      <td>210.000000</td>\n",
       "      <td>353.000000</td>\n",
       "      <td>107.000000</td>\n",
       "      <td>263.000000</td>\n",
       "      <td>587.000000</td>\n",
       "      <td>79.000000</td>\n",
       "    </tr>\n",
       "  </tbody>\n",
       "</table>\n",
       "</div>"
      ],
      "text/plain": [
       "       cumulative_enrollment  total_suspensions  \\\n",
       "count           10652.000000       10652.000000   \n",
       "mean              614.161472          27.452403   \n",
       "std               648.279384          55.631809   \n",
       "min                 1.000000           0.000000   \n",
       "25%               288.000000           0.000000   \n",
       "50%               498.000000           6.000000   \n",
       "75%               733.000000          25.000000   \n",
       "max             27369.000000         805.000000   \n",
       "\n",
       "       unduplicated_count_students_suspended_total  \\\n",
       "count                                 10652.000000   \n",
       "mean                                     18.566373   \n",
       "std                                      35.315752   \n",
       "min                                       0.000000   \n",
       "25%                                       0.000000   \n",
       "50%                                       4.000000   \n",
       "75%                                      18.000000   \n",
       "max                                     374.000000   \n",
       "\n",
       "       unduplicated_count_students_suspended_defiance_only  \\\n",
       "count                                       10652.000000     \n",
       "mean                                            1.521780     \n",
       "std                                             7.117071     \n",
       "min                                             0.000000     \n",
       "25%                                             0.000000     \n",
       "50%                                             0.000000     \n",
       "75%                                             0.000000     \n",
       "max                                           224.000000     \n",
       "\n",
       "       suspension_rate_total  suspension_count_violent_incident_injury  \\\n",
       "count           10652.000000                              10652.000000   \n",
       "mean                2.952244                                  4.264176   \n",
       "std                 5.427761                                 11.633000   \n",
       "min                 0.000000                                  0.000000   \n",
       "25%                 0.000000                                  0.000000   \n",
       "50%                 1.000000                                  0.000000   \n",
       "75%                 3.600000                                  3.000000   \n",
       "max               100.000000                                210.000000   \n",
       "\n",
       "       suspension_count_violent_incident_no_injury  \\\n",
       "count                                 10652.000000   \n",
       "mean                                     13.851483   \n",
       "std                                      28.442849   \n",
       "min                                       0.000000   \n",
       "25%                                       0.000000   \n",
       "50%                                       3.000000   \n",
       "75%                                      13.000000   \n",
       "max                                     353.000000   \n",
       "\n",
       "       suspension_count_weapons_possession  \\\n",
       "count                         10652.000000   \n",
       "mean                              1.316279   \n",
       "std                               3.224511   \n",
       "min                               0.000000   \n",
       "25%                               0.000000   \n",
       "50%                               0.000000   \n",
       "75%                               1.000000   \n",
       "max                             107.000000   \n",
       "\n",
       "       suspension_count_illicit_drug_related  suspension_count_defiance_only  \\\n",
       "count                           10652.000000                    10652.000000   \n",
       "mean                                4.737796                        2.015115   \n",
       "std                                13.237759                       11.957709   \n",
       "min                                 0.000000                        0.000000   \n",
       "25%                                 0.000000                        0.000000   \n",
       "50%                                 0.000000                        0.000000   \n",
       "75%                                 2.000000                        0.000000   \n",
       "max                               263.000000                      587.000000   \n",
       "\n",
       "       suspension_count_other_reasons  \n",
       "count                    10652.000000  \n",
       "mean                         1.267555  \n",
       "std                          3.142524  \n",
       "min                          0.000000  \n",
       "25%                          0.000000  \n",
       "50%                          0.000000  \n",
       "75%                          1.000000  \n",
       "max                         79.000000  "
      ]
     },
     "execution_count": 89,
     "metadata": {},
     "output_type": "execute_result"
    }
   ],
   "source": [
    "schoolLevel_df.describe()"
   ]
  },
  {
   "cell_type": "markdown",
   "metadata": {},
   "source": [
    "#### e. Preparing data for visualizations\n",
    "\n",
    "Two visualizations I'm interested in viewing are the relationship between the number of suspensions at a school district compared to the number of schools in the district. To this I grouped the data by the school district and then created aggregate caluclations for the number of schools in the district, the total number of suspensions and the total number of students in the district. The general premise is that larger school districts are mostly found in urban areas, where there are more likely to be a larger number of suspensions.\n",
    "\n",
    "The second visualization that I was interested in was just an overall distribution of the districts based on the number of schools in each district. This was mainly done to just gain a sense of the data and the overall distribution of the data"
   ]
  },
  {
   "cell_type": "code",
   "execution_count": 75,
   "metadata": {},
   "outputs": [],
   "source": [
    "suspensions_df = schoolLevel_df.groupby('district_name').aggregate({'school_name':'count', \n",
    "                                                                    'total_suspensions':'sum',\n",
    "                                                                   'cumulative_enrollment':'sum'}).reset_index()"
   ]
  },
  {
   "cell_type": "code",
   "execution_count": 77,
   "metadata": {},
   "outputs": [],
   "source": [
    "suspensions_df.rename(columns={'school_name':'num_schools'},inplace=True)"
   ]
  },
  {
   "cell_type": "code",
   "execution_count": 79,
   "metadata": {},
   "outputs": [],
   "source": [
    "suspensions_df['suspension_rate'] = suspensions_df['total_suspensions']/suspensions_df['cumulative_enrollment']"
   ]
  },
  {
   "cell_type": "markdown",
   "metadata": {},
   "source": [
    "One thing I wanted to do was remove any significantly large districtions from the dataframe in order to remove outliers. I chose 50 as the maximum number of schools in a district and 1000 as the maximum number of suspensions to include in my data."
   ]
  },
  {
   "cell_type": "code",
   "execution_count": 90,
   "metadata": {},
   "outputs": [],
   "source": [
    "suspensions_dfMod = suspensions_df[(suspensions_df['num_schools'] <= 50) \n",
    "                                  & (suspensions_df['total_suspensions'] <= 1000)]"
   ]
  },
  {
   "cell_type": "markdown",
   "metadata": {
    "id": "uJdF3TMe_TXU"
   },
   "source": [
    "# 4. Visualizations\n",
    "\n",
    "Now we can explore our data further by creating visualizations to help us better understand our data. For this assignment, I decided to focus on creating two different visualizations that focus on the following:\n",
    "\n",
    "**Visualization 1:** For this first visualization, I create a scatter plot that shows the relationship between the number of schools in the district and the total number of suspensions. \n",
    "\n",
    "**Visualization 2:** For this second visualization we look at the general distribution of the districts in the data set based on the number of schools that are in the district"
   ]
  },
  {
   "cell_type": "markdown",
   "metadata": {
    "id": "uJdF3TMe_TXU"
   },
   "source": [
    "### Matplotlib\n"
   ]
  },
  {
   "cell_type": "markdown",
   "metadata": {},
   "source": [
    "#### Visualization 1\n",
    "\n",
    "This visualization is a scatter plot that compares the Number of Schools in the District with the Total Suspensions in the district. For this visualization I made the following customizations to my chart:\n",
    "    \n",
    "- Increased the size of the image to 16 x 10\n",
    "- Changed the market for the points to an x\n",
    "- Changed the color of the points to purple\n",
    "- Added a title to the plot\n",
    "- Changed the font size of the title to 16\n",
    "- Changed the weight of the title font to bold\n",
    "- Added labels to the X and Y axis\n",
    "- Increased the labels to size 14"
   ]
  },
  {
   "cell_type": "code",
   "execution_count": 88,
   "metadata": {},
   "outputs": [
    {
     "data": {
      "text/plain": [
       "Text(0, 0.5, 'Total Suspensions')"
      ]
     },
     "execution_count": 88,
     "metadata": {},
     "output_type": "execute_result"
    },
    {
     "data": {
      "image/png": "[encoded data removed]",
      "text/plain": [
       "<Figure size 1152x720 with 1 Axes>"
      ]
     },
     "metadata": {
      "needs_background": "light"
     },
     "output_type": "display_data"
    }
   ],
   "source": [
    "suspensions_dfMod.plot.scatter(x='num_schools', y='total_suspensions',\n",
    "                              marker='x', color='purple',figsize=(16,10))\n",
    "plt.title('Total Suspensions vs. Num Schools in District', size=16, fontweight='bold')\n",
    "plt.xlabel('Number of Schools', size=14)\n",
    "plt.ylabel('Total Suspensions', size=14)"
   ]
  },
  {
   "cell_type": "markdown",
   "metadata": {},
   "source": [
    "#### Visualization 2\n",
    "\n",
    "This visualization is a histogram plot that shows the distribution of districts in the dataset based on the number of Schools in the District. For this visualization I made the following customizations to my chart:\n",
    "    \n",
    "- Increased the size of the image to 16 x 10\n",
    "- Changed the color of the bars to light blue\n",
    "- Added a black outline border to each of the bars\n",
    "- Added a title to the plot\n",
    "- Changed the font size of the title to 16\n",
    "- Changed the weight of the title font to bold\n",
    "- Added labels to the X and Y axis\n",
    "- Increased the labels to size 12"
   ]
  },
  {
   "cell_type": "code",
   "execution_count": 38,
   "metadata": {},
   "outputs": [
    {
     "data": {
      "text/plain": [
       "Text(0, 0.5, 'Number of Districts')"
      ]
     },
     "execution_count": 38,
     "metadata": {},
     "output_type": "execute_result"
    },
    {
     "data": {
      "image/png": "[encoded data removed]",
      "text/plain": [
       "<Figure size 1152x720 with 1 Axes>"
      ]
     },
     "metadata": {
      "needs_background": "light"
     },
     "output_type": "display_data"
    }
   ],
   "source": [
    "suspensions_dfMod.hist(column='num_schools', bins=20, figsize=(16,10), edgecolor='black',\n",
    "                      color='lightblue')\n",
    "plt.title('Number of Schools', size=16, fontweight='bold')\n",
    "plt.xlabel('Number of Schoools in District', size=12)\n",
    "plt.ylabel('Number of Districts',size=12)"
   ]
  },
  {
   "cell_type": "markdown",
   "metadata": {
    "id": "uJdF3TMe_TXU"
   },
   "source": [
    "### Seaborn\n",
    "\n",
    "Next, I recreated each of the plots above in Seaborn. In addition to the customizations identified above, I had to start by updating the figure size of the image using the rcParams library"
   ]
  },
  {
   "cell_type": "code",
   "execution_count": 56,
   "metadata": {},
   "outputs": [],
   "source": [
    "rcParams['figure.figsize'] = 16, 10"
   ]
  },
  {
   "cell_type": "markdown",
   "metadata": {},
   "source": [
    "#### Visualization 1"
   ]
  },
  {
   "cell_type": "code",
   "execution_count": 57,
   "metadata": {},
   "outputs": [
    {
     "data": {
      "text/plain": [
       "Text(0, 0.5, 'Total Suspensions')"
      ]
     },
     "execution_count": 57,
     "metadata": {},
     "output_type": "execute_result"
    },
    {
     "data": {
      "image/png": "[encoded data removed]",
      "text/plain": [
       "<Figure size 1152x720 with 1 Axes>"
      ]
     },
     "metadata": {
      "needs_background": "light"
     },
     "output_type": "display_data"
    }
   ],
   "source": [
    "chart = sns.scatterplot(data=suspensions_dfMod, x='num_schools', y='total_suspensions', marker='x',\n",
    "               color='purple')\n",
    "plt.title('Total Suspensions vs. Num Schools in District', size=16, fontweight='bold')\n",
    "plt.xlabel('Number of Schools', size=14)\n",
    "plt.ylabel('Total Suspensions', size=14)"
   ]
  },
  {
   "cell_type": "markdown",
   "metadata": {},
   "source": [
    "#### Visualization 2"
   ]
  },
  {
   "cell_type": "code",
   "execution_count": 58,
   "metadata": {},
   "outputs": [
    {
     "data": {
      "text/plain": [
       "Text(0, 0.5, 'Number of Districts')"
      ]
     },
     "execution_count": 58,
     "metadata": {},
     "output_type": "execute_result"
    },
    {
     "data": {
      "image/png": "[encoded data removed]",
      "text/plain": [
       "<Figure size 1152x720 with 1 Axes>"
      ]
     },
     "metadata": {
      "needs_background": "light"
     },
     "output_type": "display_data"
    }
   ],
   "source": [
    "sns.histplot(data=suspensions_dfMod, x='num_schools', color='lightblue')\n",
    "plt.title('Number of Schools', size=16, fontweight='bold')\n",
    "plt.xlabel('Number of Schoools in District', size=12)\n",
    "plt.ylabel('Number of Districts',size=12)"
   ]
  },
  {
   "cell_type": "markdown",
   "metadata": {
    "id": "uJdF3TMe_TXU"
   },
   "source": [
    "### Matplotlib vs. Seaborn\n",
    "\n",
    "In this specific instance, I really didn't know a tremendous amount of difference in the process of creating my plots between Matplotblib and Seaborn. I ended up having to add separate lines of code to add titles, labels, and to adjust the size of the plot. However, one thing I noticed is that the Seaborn plot had much better formatting out of the box. I would like to spend more time better understanding each of the graphics libraries so I can master them and have more control over the visualization affects of my data."
   ]
  },
  {
   "cell_type": "markdown",
   "metadata": {
    "id": "tujjevRpXEen"
   },
   "source": [
    "# 5. Conclusions  \n",
    "\n",
    "Through the visualizations, I noticed that there are a lot of districts with only a handful of schools in them across the state. Overall there were only a handful of districts that I would consider larger school districts throughout the state. Being from California, it makes sense to me that this would be the case, since there are a lot of less urban areas throughout the state. \n",
    "\n",
    "Additionally, my hypothesis that larger districts would have more total suspensions appears to be somewhat validated by the data. Although the scatter plot does not show a simple linear relationship, we can see the total number of suspensions fanning upward as the number of schools in the distrct increases. "
   ]
  }
 ],
 "metadata": {
  "colab": {
   "name": "08_assignment.ipynb",
   "provenance": []
  },
  "kernelspec": {
   "display_name": "Python 3",
   "language": "python",
   "name": "python3"
  },
  "language_info": {
   "codemirror_mode": {
    "name": "ipython",
    "version": 3
   },
   "file_extension": ".py",
   "mimetype": "text/x-python",
   "name": "python",
   "nbconvert_exporter": "python",
   "pygments_lexer": "ipython3",
   "version": "3.7.6"
  }
 },
 "nbformat": 4,
 "nbformat_minor": 1
}
